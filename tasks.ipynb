{
 "cells": [
  {
   "cell_type": "markdown",
   "metadata": {},
   "source": [
    "## Task 1: Binary Representations"
   ]
  },
  {
   "cell_type": "markdown",
   "metadata": {},
   "source": [
    "Rotate the unsigned int `x` left by `n` bits.\n",
    "\n",
    "The expression `(x << n)` shifts the bits of `x` to the left by `n` positions, while `(x << (32 - n))` shifts the bits to the right by the complement of `n` (i.e., the number of positions needed to wrap around a 32-bit integer).      \n",
    "The bitwise OR operator (|) combines these two shifted values, and the result is masked with `0xFFFFFFFF` to ensure that the output is constrained to 32 bits.    \n",
    "\n",
    "Finally, the result is converted to a binary string using the `bin()` function."
   ]
  },
  {
   "cell_type": "code",
   "execution_count": 1,
   "metadata": {},
   "outputs": [],
   "source": [
    "def rotl(x, n):\n",
    "   if n < 0:\n",
    "      raise ValueError(str(n) + \" is invalid. Must be a positive integer. \")\n",
    "\n",
    "   return bin((x << n) | (x << (32 - n)) & 0xFFFFFFFF)"
   ]
  },
  {
   "cell_type": "code",
   "execution_count": 2,
   "metadata": {},
   "outputs": [
    {
     "data": {
      "text/plain": [
       "'0b10100'"
      ]
     },
     "execution_count": 2,
     "metadata": {},
     "output_type": "execute_result"
    }
   ],
   "source": [
    "# Test rotl function.\n",
    "rotl(10, 1)"
   ]
  },
  {
   "cell_type": "markdown",
   "metadata": {},
   "source": [
    "Rotate the unsigned int `x` right by `n` bits.\n",
    "\n",
    "The expression `(x >> n)` shifts the bits of `x` to the right by `n` positions, while `(x >> (32 - n))` shifts the bits to the right by the complement of `n` (i.e., the number of positions needed to wrap around a 32-bit integer).     \n",
    "The bitwise OR operator (|) combines these two shifted values, and the result is masked with `0xFFFFFFFF` to ensure that the output is constrained to 32 bits.    \n",
    "\n",
    "Finally, the result is converted to a binary string using the `bin()` function."
   ]
  },
  {
   "cell_type": "code",
   "execution_count": 3,
   "metadata": {},
   "outputs": [],
   "source": [
    "def rotr(x, n):\n",
    "   if n < 0:\n",
    "      raise ValueError(str(n) + \" is invalid. Must be a positive integer. \")\n",
    "   \n",
    "   return bin((x >> n) | (x << (32 - n)) & 0xFFFFFFFF)"
   ]
  },
  {
   "cell_type": "code",
   "execution_count": 4,
   "metadata": {},
   "outputs": [
    {
     "data": {
      "text/plain": [
       "'0b101'"
      ]
     },
     "execution_count": 4,
     "metadata": {},
     "output_type": "execute_result"
    }
   ],
   "source": [
    "# Test rotr function.\n",
    "rotr(10, 1)"
   ]
  },
  {
   "cell_type": "markdown",
   "metadata": {},
   "source": [
    "Choose bits from `y` or `z` based on `x`.    \n",
    "\n",
    "This computes the \"choose\" function, which is often abbreviated as Ch.     \n",
    "This operation is used to select bits from two inputs (`y` and `z`) based on the bits of a third input `x`.     \n",
    "\n",
    "`(x & y)`: This performs a bitwise AND operation between x and y. It results in a value where each bit is 1 only if the corresponding bits in both `x` and `y` are 1.      \n",
    "`(~x & z)`: This performs a bitwise AND operation between the bitwise NOT of `x (~x)` and `z`. The bitwise NOT inverts all bits of `x`, and the AND operation selects bits from `z` where `x` has 0 bits.      \n",
    "`(x & y) ^ (~x & z)`: This combines the two results using a bitwise XOR operation. XOR outputs 1 for each bit position where the two inputs differ (i.e., one is 1 and the other is 0).      \n",
    "The overall effect is that the function \"chooses\" bits from `y` where `x` has 1 bits and from `z` where `x` has 0 bits.\n",
    "\n",
    "Finally, the result is converted to a binary string using the `bin()` function."
   ]
  },
  {
   "cell_type": "code",
   "execution_count": 5,
   "metadata": {},
   "outputs": [],
   "source": [
    "def ch(x, y, z):\n",
    "   return bin((x & y) ^ (~x & z))"
   ]
  },
  {
   "cell_type": "code",
   "execution_count": 6,
   "metadata": {},
   "outputs": [
    {
     "data": {
      "text/plain": [
       "'0b10100'"
      ]
     },
     "execution_count": 6,
     "metadata": {},
     "output_type": "execute_result"
    }
   ],
   "source": [
    "# Test Ch function.\n",
    "ch(10, 20, 30)"
   ]
  },
  {
   "cell_type": "markdown",
   "metadata": {},
   "source": [
    "Calculate the majority value for each bit position of three integers.\n",
    "\n",
    "This computes the \"majority\" function, which is often abbreviated as Maj.     \n",
    "This operation determines the majority value for each bit position across three inputs (`x`, `y`, and `z`).\n",
    "\n",
    "`(x & y)`: This performs a bitwise AND operation between `x` and `y`. It results in a value where each bit is 1 only if the corresponding bits in both `x` and `y` are 1.      \n",
    "`(x & z)`: This performs a bitwise AND operation between `x` and `z`. It selects bits where both `x` and `z` have 1.      \n",
    "`(y & z)`: This performs a bitwise AND operation between `y` and `z`. It selects bits where both `y` and `z` have 1.      \n",
    "`(x & y) ^ (x & z) ^ (y & z)`: This combines the results of the three AND operations using the bitwise XOR operator. XOR outputs 1 for each bit position where the number of 1s is odd (e.g., one or three 1s), and 0 otherwise.      \n",
    "\n",
    "Finally, the result is converted to a binary string using the `bin()` function."
   ]
  },
  {
   "cell_type": "code",
   "execution_count": 7,
   "metadata": {},
   "outputs": [],
   "source": [
    "def maj(x, y, z):\n",
    "   return bin((x & y) ^ (x & z) ^ (y & z))"
   ]
  },
  {
   "cell_type": "code",
   "execution_count": 8,
   "metadata": {},
   "outputs": [
    {
     "data": {
      "text/plain": [
       "'0b11110'"
      ]
     },
     "execution_count": 8,
     "metadata": {},
     "output_type": "execute_result"
    }
   ],
   "source": [
    "# Test Maj function.\n",
    "maj(10, 20, 30)"
   ]
  },
  {
   "cell_type": "markdown",
   "metadata": {},
   "source": [
    "## Task 2: Hash Functions"
   ]
  },
  {
   "cell_type": "markdown",
   "metadata": {},
   "source": [
    "Converts strings into a numeric value.\n",
    "\n",
    "This computes a hash function, which is often used in data structures like hash tables or for ensuring data integrity.\n",
    "\n",
    "`hashval = 0`: This initialises the hash value to 0. It will accumulate the computed hash value as the function iterates through each character in the string.      \n",
    "`ord(char)`: This calculates the Unicode code point of the character.      \n",
    "`31 * hashval`: This multiplies the current hash value by 31, a common multiplier used in hash functions to distribute hash values more uniformly.      \n",
    "`ord(char) + 31 * hashval`: This combines the Unicode value of the character with the current hash value, giving more weight to earlier characters in the string.      \n",
    "`hashval % 101`: This computes the hash value modulo 101, ensuring the result is constrained to a fixed range (0 to 100)."
   ]
  },
  {
   "cell_type": "code",
   "execution_count": 9,
   "metadata": {},
   "outputs": [],
   "source": [
    "def hash(s):\n",
    "   hashval = 0\n",
    "   for char in s:\n",
    "      hashval = ord(char) + 31 * hashval\n",
    "   return hashval % 101"
   ]
  },
  {
   "cell_type": "code",
   "execution_count": 10,
   "metadata": {},
   "outputs": [
    {
     "data": {
      "text/plain": [
       "46"
      ]
     },
     "execution_count": 10,
     "metadata": {},
     "output_type": "execute_result"
    }
   ],
   "source": [
    "# Test the hash function with string \"Hello\".\n",
    "hash(\"Hello\")"
   ]
  },
  {
   "cell_type": "markdown",
   "metadata": {},
   "source": [
    "# Task 3: SHA256"
   ]
  },
  {
   "cell_type": "markdown",
   "metadata": {},
   "source": [
    "Gets the size in bytes then multiplies by eight for the size in bits."
   ]
  },
  {
   "cell_type": "code",
   "execution_count": 11,
   "metadata": {},
   "outputs": [],
   "source": [
    "import os"
   ]
  },
  {
   "cell_type": "code",
   "execution_count": 12,
   "metadata": {},
   "outputs": [],
   "source": [
    "def generatePadding(filePath):\n",
    "   MULTIPLE = 512                                     # The message must be a multiple of 512 bits.\n",
    "   returnMessage = \"1\"                                # The first bit is always 1.\n",
    "   amountOfPadding = 0                                # Number of bits to add to the message.\n",
    "   sizeInBits = (os.path.getsize(filePath)) * 8       # Multiply by 8 since we want bits and not bytes.\n",
    "\n",
    "   while ((sizeInBits + 1 + amountOfPadding) % MULTIPLE != 448):   # Add padding until the message is 448 bits less than a multiple of 512.\n",
    "      amountOfPadding += 1\n",
    "      returnMessage += \"0\"\n",
    "   \n",
    "   returnMessage += f\"{sizeInBits:064b}\"     # Add the size of the message in bits as a 64-bit big endian integer. \n",
    "   return hex(int(returnMessage, 2))         # Convert the binary string to a hexadecimal string.\n",
    "   "
   ]
  },
  {
   "cell_type": "code",
   "execution_count": 13,
   "metadata": {},
   "outputs": [
    {
     "data": {
      "text/plain": [
       "'0x80000000000000000000000000000000000000000000000000000000000000000000000000000000000000000000000000000000000000000000000018'"
      ]
     },
     "execution_count": 13,
     "metadata": {},
     "output_type": "execute_result"
    }
   ],
   "source": [
    "# Test the function with file \"abc.txt\". \n",
    "generatePadding(\"data/abc.txt\")"
   ]
  },
  {
   "cell_type": "markdown",
   "metadata": {},
   "source": [
    "# Task 4: Prime Numbers"
   ]
  },
  {
   "cell_type": "markdown",
   "metadata": {},
   "source": [
    "Calculating the first 100 prime numbers with any two different algorithms."
   ]
  },
  {
   "cell_type": "markdown",
   "metadata": {},
   "source": [
    "**Algorithm 1:** [Sieve of Eratosthenes](https://en.wikipedia.org/wiki/Sieve_of_Eratosthenes)     \n",
    "The Sieve of Eratosthenes is an ancient algorithm for finding prime numbers.     \n",
    "It works by starting at two, the first prime number, and then crossing out all multiples of two.    \n",
    "Then you go to the next unmarked number (your next prime) and then repeat.     \n",
    "All unmarked numbers are primes.        "
   ]
  },
  {
   "cell_type": "code",
   "execution_count": 14,
   "metadata": {},
   "outputs": [],
   "source": [
    "def findPrimesEratosthenes(n):\n",
    "   if n < 0:\n",
    "      raise ValueError(str(n) + \" is invalid. Must be a positive integer. \")\n",
    "   \n",
    "   # Create a list of booleans where the index represents the number and the value represents if it is prime.\n",
    "   primes = [True] * (n + 1)\n",
    "\n",
    "   # 0 and 1 are not prime, so we start at 2.\n",
    "   primes[0] = False\n",
    "   if n > 0: primes[1] = False\n",
    "\n",
    "   # Find all multiples of each prime and mark them as not prime.\n",
    "   for i in range(2, int(n**0.5) + 1):\n",
    "       if primes[i]:\n",
    "           # Mark all multiples of i starting from i*i as not prime.\n",
    "           for j in range(i*i, n+1, i):\n",
    "               primes[j] = False\n",
    "\n",
    "   return [index for index, is_prime in enumerate(primes) if is_prime]"
   ]
  },
  {
   "cell_type": "code",
   "execution_count": 15,
   "metadata": {},
   "outputs": [
    {
     "data": {
      "text/plain": [
       "[2,\n",
       " 3,\n",
       " 5,\n",
       " 7,\n",
       " 11,\n",
       " 13,\n",
       " 17,\n",
       " 19,\n",
       " 23,\n",
       " 29,\n",
       " 31,\n",
       " 37,\n",
       " 41,\n",
       " 43,\n",
       " 47,\n",
       " 53,\n",
       " 59,\n",
       " 61,\n",
       " 67,\n",
       " 71,\n",
       " 73,\n",
       " 79,\n",
       " 83,\n",
       " 89,\n",
       " 97]"
      ]
     },
     "execution_count": 15,
     "metadata": {},
     "output_type": "execute_result"
    }
   ],
   "source": [
    "# Test algorithm one.\n",
    "findPrimesEratosthenes(100)"
   ]
  },
  {
   "cell_type": "markdown",
   "metadata": {},
   "source": [
    "**Algorithm 2:** [Sieve of Sundaram](https://en.wikipedia.org/wiki/Sieve_of_Sundaram)     \n",
    "The Sieve of Sundaram is an algorithm for finding prime numbers.     \n",
    "It works by eliminating numbers that can be expressed as `i + j + 2ij` where `i`, `j` are positive integers and `i ≤ j`.     \n",
    "The remaining numbers are doubled and incremented by one to generate all odd prime numbers.     \n",
    "This method is efficient for generating primes up to a given limit."
   ]
  },
  {
   "cell_type": "code",
   "execution_count": 16,
   "metadata": {},
   "outputs": [],
   "source": [
    "def findPrimesSundaram(n):\n",
    "   if n < 0:\n",
    "      raise ValueError(str(n) + \" is invalid. Must be a positive integer. \")\n",
    "   \n",
    "   # Sundaram's sieve finds primes up to 2*n + 2.\n",
    "   k = (n - 1) // 2\n",
    "   \n",
    "   # Create a list of booleans where the index represents the number and the value represents if it is prime.\n",
    "   primes = [True] * (k + 1)\n",
    "   \n",
    "   # Mark all numbers of the form i + j + 2ij for all i,j where 1 <= i <= j and i + j + 2ij <= k\n",
    "   for i in range(1, k + 1):\n",
    "      j = i\n",
    "      while (i + j + 2 * i * j) <= k:\n",
    "         primes[i + j + 2 * i * j] = False\n",
    "         j += 1\n",
    "   \n",
    "   # Collect all numbers marked as prime and convert them to actual primes.\n",
    "   return [2] + [2 * i + 1 for i in range(1, k + 1) if primes[i]]\n"
   ]
  },
  {
   "cell_type": "code",
   "execution_count": 17,
   "metadata": {},
   "outputs": [
    {
     "data": {
      "text/plain": [
       "[2,\n",
       " 3,\n",
       " 5,\n",
       " 7,\n",
       " 11,\n",
       " 13,\n",
       " 17,\n",
       " 19,\n",
       " 23,\n",
       " 29,\n",
       " 31,\n",
       " 37,\n",
       " 41,\n",
       " 43,\n",
       " 47,\n",
       " 53,\n",
       " 59,\n",
       " 61,\n",
       " 67,\n",
       " 71,\n",
       " 73,\n",
       " 79,\n",
       " 83,\n",
       " 89,\n",
       " 97]"
      ]
     },
     "execution_count": 17,
     "metadata": {},
     "output_type": "execute_result"
    }
   ],
   "source": [
    "# Test algorithm two.\n",
    "findPrimesSundaram(100)"
   ]
  },
  {
   "cell_type": "markdown",
   "metadata": {},
   "source": [
    "# Task 5: Roots"
   ]
  },
  {
   "cell_type": "markdown",
   "metadata": {},
   "source": [
    "Calculating the first 32 bits of the fractional part of the square roots of the first 100 prime numbers."
   ]
  },
  {
   "cell_type": "code",
   "execution_count": 18,
   "metadata": {},
   "outputs": [],
   "source": [
    "import math"
   ]
  },
  {
   "cell_type": "code",
   "execution_count": 19,
   "metadata": {},
   "outputs": [],
   "source": [
    "# Extracting out the fractional part of a number.\n",
    "def extractFractional(n):\n",
    "   if n < 0:\n",
    "      raise ValueError(str(n) + \" is invalid. Must be a positive integer. \")\n",
    "   \n",
    "   # Remove the integer part of the number to get the fractional part.\n",
    "   fractional_part = n - int(n)\n",
    "   return fractional_part"
   ]
  },
  {
   "cell_type": "code",
   "execution_count": 20,
   "metadata": {},
   "outputs": [],
   "source": [
    "# Converting a fractional part to binary.\n",
    "def fractionalToBinary(fractional, bits=32):\n",
    "  binary = \"\"\n",
    "    \n",
    "  for _ in range(bits):\n",
    "    # Multiply by 2 and check if result >= 1\n",
    "    fractional *= 2\n",
    "    \n",
    "    # If result >= 1, append 1 to binary and subtract 1 from fractional.\n",
    "    if fractional >= 1:\n",
    "      binary += \"1\"\n",
    "      fractional -= 1\n",
    "    else:\n",
    "      binary += \"0\"\n",
    "    \n",
    "  return binary"
   ]
  },
  {
   "cell_type": "code",
   "execution_count": null,
   "metadata": {},
   "outputs": [
    {
     "name": "stdout",
     "output_type": "stream",
     "text": [
      "32-bit Binary for fractional of 2: 01101010000010011110011001100111\n",
      "32-bit Binary for fractional of 3: 10111011011001111010111010000101\n",
      "32-bit Binary for fractional of 5: 00111100011011101111001101110010\n",
      "32-bit Binary for fractional of 7: 10100101010011111111010100111010\n",
      "32-bit Binary for fractional of 11: 01010001000011100101001001111111\n",
      "32-bit Binary for fractional of 13: 10011011000001010110100010001100\n",
      "32-bit Binary for fractional of 17: 00011111100000111101100110101011\n",
      "32-bit Binary for fractional of 19: 01011011111000001100110100011001\n",
      "32-bit Binary for fractional of 23: 11001011101110111001110101011101\n",
      "32-bit Binary for fractional of 29: 01100010100110100010100100101010\n",
      "32-bit Binary for fractional of 31: 10010001010110010000000101011010\n",
      "32-bit Binary for fractional of 37: 00010101001011111110110011011000\n",
      "32-bit Binary for fractional of 41: 01100111001100110010011001100111\n",
      "32-bit Binary for fractional of 43: 10001110101101000100101010000111\n",
      "32-bit Binary for fractional of 47: 11011011000011000010111000001101\n",
      "32-bit Binary for fractional of 53: 01000111101101010100100000011101\n",
      "32-bit Binary for fractional of 59: 10101110010111111001000101010110\n",
      "32-bit Binary for fractional of 61: 11001111011011001000010111010011\n",
      "32-bit Binary for fractional of 67: 00101111011100110100011101111101\n",
      "32-bit Binary for fractional of 71: 01101101000110000010011011001010\n",
      "32-bit Binary for fractional of 73: 10001011010000111101010001010111\n",
      "32-bit Binary for fractional of 79: 11100011011000001011010110010110\n",
      "32-bit Binary for fractional of 83: 00011100010001010110000000000010\n",
      "32-bit Binary for fractional of 89: 01101111000110010110001100110001\n",
      "32-bit Binary for fractional of 97: 11011001010011101011111010110001\n"
     ]
    }
   ],
   "source": [
    "primes = findPrimesEratosthenes(100)\n",
    "\n",
    "# For every prime number, get the square root, extract the fractional part, and convert to binary.\n",
    "for prime in primes:\n",
    "   square_root = math.sqrt(prime)\n",
    "   fractional = extractFractional(square_root)\n",
    "   binary = fractionalToBinary(fractional)\n",
    "   print(f\"32-bit Binary for fractional of {prime}: {binary}\") "
   ]
  }
 ],
 "metadata": {
  "kernelspec": {
   "display_name": "Python 3",
   "language": "python",
   "name": "python3"
  },
  "language_info": {
   "codemirror_mode": {
    "name": "ipython",
    "version": 3
   },
   "file_extension": ".py",
   "mimetype": "text/x-python",
   "name": "python",
   "nbconvert_exporter": "python",
   "pygments_lexer": "ipython3",
   "version": "3.13.3"
  }
 },
 "nbformat": 4,
 "nbformat_minor": 2
}
