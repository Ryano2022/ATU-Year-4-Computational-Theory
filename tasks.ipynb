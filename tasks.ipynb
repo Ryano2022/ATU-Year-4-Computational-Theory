{
 "cells": [
  {
   "cell_type": "markdown",
   "metadata": {},
   "source": [
    "## Task 1: Binary Representations"
   ]
  },
  {
   "cell_type": "markdown",
   "metadata": {},
   "source": [
    "Rotate the unsigned int `x` left by `n` bits."
   ]
  },
  {
   "cell_type": "code",
   "execution_count": null,
   "metadata": {},
   "outputs": [],
   "source": [
    "def rotl(x, n):\n",
    "   if n < 0:\n",
    "      raise ValueError(str(n) + \" is invalid. Must be a positive integer. \")\n",
    "\n",
    "   return bin((x >> n) | (x >> (32 - n)) & 0xFFFFFFFF)"
   ]
  },
  {
   "cell_type": "code",
   "execution_count": 2,
   "metadata": {},
   "outputs": [
    {
     "data": {
      "text/plain": [
       "'0b101'"
      ]
     },
     "execution_count": 2,
     "metadata": {},
     "output_type": "execute_result"
    }
   ],
   "source": [
    "# Test rotl function.\n",
    "rotl(10, 1)"
   ]
  },
  {
   "cell_type": "markdown",
   "metadata": {},
   "source": [
    "Rotate the unsigned int `x` right by `n` bits."
   ]
  },
  {
   "cell_type": "code",
   "execution_count": null,
   "metadata": {},
   "outputs": [],
   "source": [
    "def rotr(x, n):\n",
    "   if n < 0:\n",
    "      raise ValueError(str(n) + \" is invalid. Must be a positive integer. \")\n",
    "   \n",
    "   return bin((x >> n) | (x << (32 - n)) & 0xFFFFFFFF)"
   ]
  },
  {
   "cell_type": "code",
   "execution_count": 4,
   "metadata": {},
   "outputs": [
    {
     "data": {
      "text/plain": [
       "'0b101'"
      ]
     },
     "execution_count": 4,
     "metadata": {},
     "output_type": "execute_result"
    }
   ],
   "source": [
    "# Test rotr function.\n",
    "rotr(10, 1)"
   ]
  },
  {
   "cell_type": "markdown",
   "metadata": {},
   "source": [
    "Choose bits from `y` or `z` based on `x`."
   ]
  },
  {
   "cell_type": "code",
   "execution_count": null,
   "metadata": {},
   "outputs": [],
   "source": [
    "def ch(x, y, z):\n",
    "   return bin((x & y) ^ (~x & z))"
   ]
  },
  {
   "cell_type": "code",
   "execution_count": 6,
   "metadata": {},
   "outputs": [
    {
     "data": {
      "text/plain": [
       "'0b10100'"
      ]
     },
     "execution_count": 6,
     "metadata": {},
     "output_type": "execute_result"
    }
   ],
   "source": [
    "# Test Ch function.\n",
    "ch(10, 20, 30)"
   ]
  },
  {
   "cell_type": "markdown",
   "metadata": {},
   "source": [
    "Calculate the majority value for each bit position of three integers."
   ]
  },
  {
   "cell_type": "code",
   "execution_count": null,
   "metadata": {},
   "outputs": [],
   "source": [
    "def maj(x, y, z):\n",
    "   # For each bit position, the result bit is set to 1 if the majority of bits at that position are 1.\n",
    "   return bin((x & y) ^ (x & z) ^ (y & z))"
   ]
  },
  {
   "cell_type": "code",
   "execution_count": 8,
   "metadata": {},
   "outputs": [
    {
     "data": {
      "text/plain": [
       "'0b11110'"
      ]
     },
     "execution_count": 8,
     "metadata": {},
     "output_type": "execute_result"
    }
   ],
   "source": [
    "# Test Maj function.\n",
    "maj(10, 20, 30)"
   ]
  },
  {
   "cell_type": "markdown",
   "metadata": {},
   "source": [
    "## Task 2: Hash Functions"
   ]
  },
  {
   "cell_type": "markdown",
   "metadata": {},
   "source": [
    "Converts strings in to a numeric value.\n",
    "`31` is used as a multiplier. \n",
    "`101` Is the size of the hash table."
   ]
  },
  {
   "cell_type": "code",
   "execution_count": null,
   "metadata": {},
   "outputs": [],
   "source": [
    "def hash(s):\n",
    "   hashval = 0\n",
    "   for char in s:\n",
    "      hashval = ord(char) + 31 * hashval\n",
    "   return hashval % 101"
   ]
  },
  {
   "cell_type": "code",
   "execution_count": 10,
   "metadata": {},
   "outputs": [
    {
     "data": {
      "text/plain": [
       "46"
      ]
     },
     "execution_count": 10,
     "metadata": {},
     "output_type": "execute_result"
    }
   ],
   "source": [
    "# Test the hash function with string \"Hello\".\n",
    "hash(\"Hello\")"
   ]
  },
  {
   "cell_type": "markdown",
   "metadata": {},
   "source": [
    "# Task 3: SHA256"
   ]
  },
  {
   "cell_type": "markdown",
   "metadata": {},
   "source": [
    "Gets the size in bytes then multiplies by eight for the size in bits."
   ]
  },
  {
   "cell_type": "code",
   "execution_count": null,
   "metadata": {},
   "outputs": [],
   "source": [
    "import os\n",
    "\n",
    "def generatePadding(filePath):\n",
    "   MULTIPLE = 512                                     # The message must be a multiple of 512 bits.\n",
    "   returnMessage = \"1\"                                # The first bit is always 1.\n",
    "   amountOfPadding = 0                                # Number of bits to add to the message.\n",
    "   sizeInBits = (os.path.getsize(filePath)) * 8       # Multiply by 8 since we want bits and not bytes.\n",
    "\n",
    "   while ((sizeInBits + 1 + amountOfPadding) % MULTIPLE != 448):   # Add padding until the message is 448 bits less than a multiple of 512.\n",
    "      amountOfPadding += 1\n",
    "      returnMessage += \"0\"\n",
    "   \n",
    "   returnMessage += f\"{sizeInBits:064b}\"     # Add the size of the message in bits as a 64-bit big endian integer. \n",
    "   return hex(int(returnMessage, 2))         # Convert the binary string to a hexadecimal string.\n",
    "   "
   ]
  },
  {
   "cell_type": "code",
   "execution_count": 12,
   "metadata": {},
   "outputs": [
    {
     "data": {
      "text/plain": [
       "'0x80000000000000000000000000000000000000000000000000000000000000000000000000000000000000000000000000000000000000000000000018'"
      ]
     },
     "execution_count": 12,
     "metadata": {},
     "output_type": "execute_result"
    }
   ],
   "source": [
    "# Test the function with file \"abc.txt\". \n",
    "generatePadding(\"data/abc.txt\")"
   ]
  },
  {
   "cell_type": "markdown",
   "metadata": {},
   "source": [
    "# Task 4: Prime Numbers"
   ]
  },
  {
   "cell_type": "markdown",
   "metadata": {},
   "source": [
    "Calculating the first 100 prime numbers with any two different algorithms."
   ]
  },
  {
   "cell_type": "code",
   "execution_count": null,
   "metadata": {},
   "outputs": [],
   "source": [
    "def findPrimeEratosthenes(n):\n",
    "   if n < 0:\n",
    "      raise ValueError(str(n) + \" is invalid. Must be a positive integer. \")\n",
    "   \n",
    "   # Create a list of booleans where the index represents the number and the value represents if it is prime.\n",
    "   primes = [True] * (n + 1)\n",
    "\n",
    "   # 0 and 1 are not prime.\n",
    "   primes[0] = False\n",
    "   if n > 0: primes[1] = False"
   ]
  }
 ],
 "metadata": {
  "kernelspec": {
   "display_name": "Python 3",
   "language": "python",
   "name": "python3"
  },
  "language_info": {
   "codemirror_mode": {
    "name": "ipython",
    "version": 3
   },
   "file_extension": ".py",
   "mimetype": "text/x-python",
   "name": "python",
   "nbconvert_exporter": "python",
   "pygments_lexer": "ipython3",
   "version": "3.13.3"
  }
 },
 "nbformat": 4,
 "nbformat_minor": 2
}
